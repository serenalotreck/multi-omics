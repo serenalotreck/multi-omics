{
 "cells": [
  {
   "cell_type": "markdown",
   "metadata": {},
   "source": [
    "# Feature importance scatterplots for predicting flowering time using RF and rrBLUP\n",
    "- genomic vs transcriptomic features\n",
    "- genomic vs methylomic features\n",
    "- transcriptomic vs methylomic features"
   ]
  },
  {
   "cell_type": "code",
   "execution_count": 3,
   "metadata": {},
   "outputs": [],
   "source": [
    "import pandas as pd\n",
    "import datatable as dt\n",
    "import matplotlib.pyplot as plt\n",
    "%matplotlib inline"
   ]
  },
  {
   "cell_type": "markdown",
   "metadata": {},
   "source": [
    "### Read in the data"
   ]
  },
  {
   "cell_type": "code",
   "execution_count": 2,
   "metadata": {},
   "outputs": [],
   "source": [
    "dir = \"/mnt/home/seguraab/Shiu_Lab/Collabs/Multi_Omic/Data\"\n",
    "\n",
    "# rrBLUP coefficients \n",
    "g_coef = dt.fread(\"%s/Coef_SNP_FT10_mean.csv\"%dir).to_pandas() # genomic\n",
    "t_coef = dt.fread(\"%s/Coef_Expression_FT10_mean.csv\"%dir).to_pandas() # transcriptomic\n",
    "m_coef = dt.fread(\"%s/Coef_GB_methy_FT10_mean.csv\"%dir).to_pandas() # methylomic\n",
    "\n",
    "# RF coefficients\n",
    "g_imp = dt.fread(\"%s/RF_SNP_FT10_mean_imp\"%dir).to_pandas() # genomic\n",
    "t_imp = dt.fread(\"%s/RF_expression_FT10_mean_imp\"%dir).to_pandas() # transcriptomic\n",
    "m_imp = dt.fread(\"%s/RF_GB_methy_FT10_mean_imp\"%dir).to_pandas() # methylomic\n"
   ]
  },
  {
   "cell_type": "code",
   "execution_count": 4,
   "metadata": {},
   "outputs": [
    {
     "data": {
      "text/plain": [
       "((10, 1771290), (10, 24175), (10, 79107), (1771290, 2), (24175, 2), (79107, 2))"
      ]
     },
     "execution_count": 4,
     "metadata": {},
     "output_type": "execute_result"
    }
   ],
   "source": [
    "g_coef.shape, t_coef.shape, m_coef.shape, g_imp.shape, t_imp.shape, m_imp.shape"
   ]
  },
  {
   "cell_type": "code",
   "execution_count": 7,
   "metadata": {},
   "outputs": [
    {
     "data": {
      "text/plain": [
       "(    Chr1_92  Chr1_110  Chr1_125  Chr1_253\n",
       " 1 -0.000027 -0.000102  0.000048 -0.000031\n",
       " 2 -0.000036 -0.000103  0.000051 -0.000029\n",
       " 3 -0.000030 -0.000102  0.000053 -0.000029\n",
       " 4 -0.000026 -0.000100  0.000056 -0.000028,\n",
       "    AT1G01020  AT1G01030  AT1G01040  AT1G01046\n",
       " 1   0.006052  -0.003300   0.004799  -0.016789\n",
       " 2   0.005318  -0.002927   0.006310  -0.014091\n",
       " 3   0.004955  -0.002795   0.005307  -0.015529\n",
       " 4   0.005726  -0.002836   0.005897  -0.016632,\n",
       "    GB_mCG_AT1G01020  GB_mCG_AT1G01030  GB_mCG_AT1G01040  GB_mCG_AT1G01050\n",
       " 1         -0.003712         -0.000344          0.151198         -0.054653\n",
       " 2         -0.009271         -0.000314          0.148130         -0.048848\n",
       " 3         -0.002727         -0.000433          0.158621         -0.061945\n",
       " 4          0.000756         -0.000310          0.152817         -0.056426,\n",
       "               C0  mean_imp\n",
       " 0   Chr1_3905584  0.052236\n",
       " 1   Chr1_3905614  0.049282\n",
       " 2   Chr1_3903103  0.010563\n",
       " 3   Chr1_2737393  0.006929\n",
       " 4  Chr5_18592588  0.006453,\n",
       "           C0  mean_imp\n",
       " 0  AT2G45660  0.248593\n",
       " 1  AT1G65480  0.156594\n",
       " 2  AT5G10140  0.041426\n",
       " 3  AT3G57920  0.017250\n",
       " 4  AT1G35180  0.007808,\n",
       "                   C0  mean_imp\n",
       " 0   GB_mCG_AT4G38550  0.021768\n",
       " 1  GB_mCHG_AT4G03156  0.018848\n",
       " 2   GB_mCG_AT1G35610  0.018258\n",
       " 3  GB_mCHG_AT3G45140  0.012932\n",
       " 4   GB_mCG_AT5G10140  0.010830)"
      ]
     },
     "execution_count": 7,
     "metadata": {},
     "output_type": "execute_result"
    }
   ],
   "source": [
    "g_coef.iloc[1:5,1:5], t_coef.iloc[1:5,1:5], m_coef.iloc[1:5,1:5], g_imp.head(), t_imp.head(), m_imp.head()"
   ]
  },
  {
   "cell_type": "markdown",
   "metadata": {},
   "source": [
    "# rrBLUP Figures"
   ]
  },
  {
   "cell_type": "code",
   "execution_count": null,
   "metadata": {},
   "outputs": [],
   "source": [
    "# Subset only genic snps\n",
    "genic = dt.fread(\"%s/TAIR10_genes_of_SNP_binary_matrix_383_accessions_drop_all_zero_MAF_larger_than_0.05_converted.csv\"%dir)\n",
    "genic.head(), genic.shape"
   ]
  },
  {
   "cell_type": "code",
   "execution_count": null,
   "metadata": {},
   "outputs": [],
   "source": []
  },
  {
   "cell_type": "code",
   "execution_count": null,
   "metadata": {},
   "outputs": [],
   "source": []
  },
  {
   "cell_type": "markdown",
   "metadata": {},
   "source": [
    "# RF Figures"
   ]
  },
  {
   "cell_type": "code",
   "execution_count": null,
   "metadata": {},
   "outputs": [],
   "source": []
  },
  {
   "cell_type": "code",
   "execution_count": null,
   "metadata": {},
   "outputs": [],
   "source": []
  }
 ],
 "metadata": {
  "interpreter": {
   "hash": "9dcc07a022c76bc727e2fcc0d0061711d10e174557ae6e8628fde24e0973d5da"
  },
  "kernelspec": {
   "display_name": "Python 3.9.1 64-bit ('base': conda)",
   "language": "python",
   "name": "python3"
  },
  "language_info": {
   "codemirror_mode": {
    "name": "ipython",
    "version": 3
   },
   "file_extension": ".py",
   "mimetype": "text/x-python",
   "name": "python",
   "nbconvert_exporter": "python",
   "pygments_lexer": "ipython3",
   "version": "3.9.1"
  },
  "orig_nbformat": 4
 },
 "nbformat": 4,
 "nbformat_minor": 2
}
